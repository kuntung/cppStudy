{
 "cells": [
  {
   "cell_type": "markdown",
   "metadata": {},
   "source": [
    "# 多态案例-计算器类\n",
    "多态优点：\n",
    "1. 代码组织结构清晰\n",
    "2. 可读性强\n",
    "3. 利于前期和后期的扩展以及维护\n",
    "\n",
    "**开闭原则:**对扩展进行开发，对修改进行关闭"
   ]
  },
  {
   "cell_type": "code",
   "execution_count": 1,
   "metadata": {},
   "outputs": [
    {
     "name": "stderr",
     "output_type": "stream",
     "text": [
      "\u001b[1minput_line_9:12:9: \u001b[0m\u001b[0;1;35mwarning: \u001b[0m\u001b[1mcontrol may reach end of non-void function [-Wreturn-type]\u001b[0m\n",
      "        }\n",
      "\u001b[0;1;32m        ^\n",
      "\u001b[0m"
     ]
    }
   ],
   "source": [
    "//普通计算器代码实现\n",
    "#include<iostream>\n",
    "#include<string>\n",
    "\n",
    "using namespace std;\n",
    "\n",
    "class Calculator{\n",
    "    public:\n",
    "        int getResult(string oper){//如果想要扩展新的功能，需要修改源码\n",
    "            if(oper == \"+\"){\n",
    "                return m_Num1 + m_Num2;\n",
    "            }\n",
    "            else if(oper == \"*\"){\n",
    "                return m_Num1 * m_Num2;\n",
    "            }\n",
    "        }\n",
    "    \n",
    "    \n",
    "        int m_Num1;\n",
    "        int m_Num2;\n",
    "};"
   ]
  },
  {
   "cell_type": "code",
   "execution_count": 2,
   "metadata": {},
   "outputs": [
    {
     "name": "stdout",
     "output_type": "stream",
     "text": [
      "10 + 20 = 30\n"
     ]
    }
   ],
   "source": [
    "void test01(){\n",
    "    Calculator c;//创建计算器对象\n",
    "    c.m_Num1 = 10;\n",
    "    c.m_Num2 = 20;\n",
    "    \n",
    "    cout<<c.m_Num1<<\" + \"<<c.m_Num2<<\" = \"<<c.getResult(\"+\")<<endl;\n",
    "}\n",
    "\n",
    "test01();"
   ]
  },
  {
   "cell_type": "code",
   "execution_count": 2,
   "metadata": {},
   "outputs": [],
   "source": [
    "//利用多态实现计算器\n",
    "//首先实现计算器抽象类\n",
    "class AbstractCalculator{\n",
    "    public:\n",
    "        virtual int Result(){\n",
    "            return 0;\n",
    "        }\n",
    "        int m_Num1;\n",
    "        int m_Num2;\n",
    "};"
   ]
  },
  {
   "cell_type": "code",
   "execution_count": 3,
   "metadata": {},
   "outputs": [],
   "source": [
    "//专门设计一个加法计算器类\n",
    "class AddCalculator:public AbstractCalculator{\n",
    "    public:\n",
    "        int getResult(){\n",
    "            return m_Num1 + m_Num2;\n",
    "        }\n",
    "};"
   ]
  },
  {
   "cell_type": "code",
   "execution_count": 4,
   "metadata": {},
   "outputs": [],
   "source": [
    "//专门设计一个乘法计算器类\n",
    "class MulCalculator:public AbstractCalculator{\n",
    "    public:\n",
    "        int getResult(){\n",
    "            return m_Num1 * m_Num2;\n",
    "        }\n",
    "};"
   ]
  },
  {
   "cell_type": "code",
   "execution_count": 5,
   "metadata": {},
   "outputs": [],
   "source": [
    "//专门设计一个减法计算器类\n",
    "class DivCalculator:public AbstractCalculator{\n",
    "    public:\n",
    "        int getResult(){\n",
    "            return m_Num1 - m_Num2;\n",
    "        }\n",
    "};"
   ]
  },
  {
   "cell_type": "code",
   "execution_count": 10,
   "metadata": {},
   "outputs": [
    {
     "name": "stderr",
     "output_type": "stream",
     "text": [
      "\u001b[1minput_line_18:8:5: \u001b[0m\u001b[0;1;31merror: \u001b[0m\u001b[1mreference to overloaded function could not be resolved; did you mean to call it?\u001b[0m\n",
      "    abs->m_Num1 = 10;\n",
      "\u001b[0;1;32m    ^~~\n",
      "\u001b[0m\u001b[1m/home/tangkun/miniconda3/envs/cppstudy/x86_64-conda_cos6-linux-gnu/sysroot/usr/include/stdlib.h:785:12: \u001b[0m\u001b[0;1;30mnote: \u001b[0mpossible target for call\u001b[0m\n",
      "extern int abs (int __x) __THROW __attribute__ ((__const__)) __wur;\n",
      "\u001b[0;1;32m           ^\n",
      "\u001b[0m\u001b[1m/../lib/gcc/x86_64-linux-gnu/9/../../../../include/c++/9/bits/valarray_after.h:445:33: \u001b[0m\u001b[0;1;30mnote: \u001b[0mpossible target for call\u001b[0m\n",
      "    _DEFINE_EXPR_UNARY_FUNCTION(abs, _Abs)\n",
      "\u001b[0;1;32m                                ^\n",
      "\u001b[0m\u001b[1m/../lib/gcc/x86_64-linux-gnu/9/../../../../include/c++/9/bits/valarray_after.h:445:33: \u001b[0m\u001b[0;1;30mnote: \u001b[0mpossible target for call\u001b[0m\n",
      "\u001b[1m/../lib/gcc/x86_64-linux-gnu/9/../../../../include/c++/9/bits/std_abs.h:56:3: \u001b[0m\u001b[0;1;30mnote: \u001b[0mpossible target for call\u001b[0m\n",
      "  abs(long __i) { return __builtin_labs(__i); }\n",
      "\u001b[0;1;32m  ^\n",
      "\u001b[0m\u001b[1m/../lib/gcc/x86_64-linux-gnu/9/../../../../include/c++/9/bits/std_abs.h:61:3: \u001b[0m\u001b[0;1;30mnote: \u001b[0mpossible target for call\u001b[0m\n",
      "  abs(long long __x) { return __builtin_llabs (__x); }\n",
      "\u001b[0;1;32m  ^\n",
      "\u001b[0m\u001b[1m/../lib/gcc/x86_64-linux-gnu/9/../../../../include/c++/9/bits/std_abs.h:71:3: \u001b[0m\u001b[0;1;30mnote: \u001b[0mpossible target for call\u001b[0m\n",
      "  abs(double __x)\n",
      "\u001b[0;1;32m  ^\n",
      "\u001b[0m\u001b[1m/../lib/gcc/x86_64-linux-gnu/9/../../../../include/c++/9/bits/std_abs.h:75:3: \u001b[0m\u001b[0;1;30mnote: \u001b[0mpossible target for call\u001b[0m\n",
      "  abs(float __x)\n",
      "\u001b[0;1;32m  ^\n",
      "\u001b[0m\u001b[1m/../lib/gcc/x86_64-linux-gnu/9/../../../../include/c++/9/bits/std_abs.h:79:3: \u001b[0m\u001b[0;1;30mnote: \u001b[0mpossible target for call\u001b[0m\n",
      "  abs(long double __x)\n",
      "\u001b[0;1;32m  ^\n",
      "\u001b[0m"
     ]
    },
    {
     "ename": "Interpreter Error",
     "evalue": "",
     "output_type": "error",
     "traceback": [
      "Interpreter Error: "
     ]
    }
   ],
   "source": [
    "void test02(){\n",
    "    //多态使用条件\n",
    "    //父类指针或者引用指向子类对象\n",
    "    \n",
    "    //加法运算\n",
    "    AbstractCalculator *abc = new AddCalculator;//父类指针指向子类对象\n",
    "    \n",
    "    abs->m_Num1 = 10;\n",
    "    abc->m_Num2 = 20;\n",
    "}"
   ]
  }
 ],
 "metadata": {
  "kernelspec": {
   "display_name": "C++14",
   "language": "C++14",
   "name": "xcpp14"
  },
  "language_info": {
   "codemirror_mode": "text/x-c++src",
   "file_extension": ".cpp",
   "mimetype": "text/x-c++src",
   "name": "c++",
   "version": "14"
  }
 },
 "nbformat": 4,
 "nbformat_minor": 4
}
