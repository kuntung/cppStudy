{
 "cells": [
  {
   "cell_type": "markdown",
   "metadata": {},
   "source": [
    "# STL使用心得"
   ]
  },
  {
   "cell_type": "markdown",
   "metadata": {},
   "source": [
    "## STL中算法使用注意事项\n",
    "1. 当调用`transform`、`copy`、`集合算法`的时候，目标容器的规模大小应该提前设置好\n",
    "2. 当通过`find`查找自定义数据类型，如`Person`时，需要重载`==`让底层find知道如何对比Person数据类型"
   ]
  }
 ],
 "metadata": {
  "kernelspec": {
   "display_name": "C++17",
   "language": "C++17",
   "name": "xcpp17"
  },
  "language_info": {
   "codemirror_mode": "text/x-c++src",
   "file_extension": ".cpp",
   "mimetype": "text/x-c++src",
   "name": "c++",
   "version": "17"
  }
 },
 "nbformat": 4,
 "nbformat_minor": 4
}
